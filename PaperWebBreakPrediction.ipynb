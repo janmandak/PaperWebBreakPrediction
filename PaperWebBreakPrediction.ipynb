{
 "cells": [
  {
   "cell_type": "markdown",
   "metadata": {},
   "source": [
    "# Prediction of paper machine failure\n",
    "Dataset obtained from the paper: \"Dataset: Rare Event Classification in Multivariate Time Series\". Basic info about dataset:\n",
    "- 18393 records\n",
    "- y = binary response, only 124 occurences\n",
    "- x1 - x61 = predictors; x61 is binary variable, x28 is categorical variable\n",
    "- all predictors are centered (mean is substracted from them)\n",
    "- the predictors are a mixture of raw materials and process variables\n",
    "\n",
    "Techniques used in this notebook:\n",
    "- feature engineering proposed by mentioned paper (first and second difference of predictors, x28 change)\n",
    "- SMOTE oversampling\n",
    "- feature selection methods (L1 regularization, correlation with response)\n",
    "- dimensionality reduction using PCA"
   ]
  },
  {
   "cell_type": "code",
   "execution_count": 89,
   "metadata": {},
   "outputs": [],
   "source": [
    "# disable warnings\n",
    "import warnings\n",
    "warnings.filterwarnings('ignore')\n",
    "\n",
    "import pandas as pd\n",
    "import matplotlib as mpl\n",
    "import numpy as np\n",
    "data = pd.read_csv('rare-event-mts-data.csv')"
   ]
  },
  {
   "cell_type": "code",
   "execution_count": 90,
   "metadata": {},
   "outputs": [
    {
     "name": "stdout",
     "output_type": "stream",
     "text": [
      "The date range: 1999-05-01 00:00:00 to 1999-05-29 00:06:00\n"
     ]
    }
   ],
   "source": [
    "# define time as time variable\n",
    "data['time'] = pd.to_datetime(data['time'])\n",
    "print('The date range:', data['time'].min(), 'to', data['time'].max())"
   ]
  },
  {
   "cell_type": "code",
   "execution_count": 91,
   "metadata": {},
   "outputs": [
    {
     "data": {
      "text/html": [
       "<div>\n",
       "<style scoped>\n",
       "    .dataframe tbody tr th:only-of-type {\n",
       "        vertical-align: middle;\n",
       "    }\n",
       "\n",
       "    .dataframe tbody tr th {\n",
       "        vertical-align: top;\n",
       "    }\n",
       "\n",
       "    .dataframe thead th {\n",
       "        text-align: right;\n",
       "    }\n",
       "</style>\n",
       "<table border=\"1\" class=\"dataframe\">\n",
       "  <thead>\n",
       "    <tr style=\"text-align: right;\">\n",
       "      <th></th>\n",
       "      <th>time</th>\n",
       "      <th>y</th>\n",
       "      <th>x1</th>\n",
       "      <th>x2</th>\n",
       "      <th>x3</th>\n",
       "      <th>x4</th>\n",
       "      <th>x5</th>\n",
       "      <th>x6</th>\n",
       "      <th>x7</th>\n",
       "      <th>x8</th>\n",
       "      <th>...</th>\n",
       "      <th>x52</th>\n",
       "      <th>x53</th>\n",
       "      <th>x54</th>\n",
       "      <th>x55</th>\n",
       "      <th>x56</th>\n",
       "      <th>x57</th>\n",
       "      <th>x58</th>\n",
       "      <th>x59</th>\n",
       "      <th>x60</th>\n",
       "      <th>x61</th>\n",
       "    </tr>\n",
       "  </thead>\n",
       "  <tbody>\n",
       "    <tr>\n",
       "      <th>0</th>\n",
       "      <td>1999-05-01 00:00:00</td>\n",
       "      <td>0</td>\n",
       "      <td>0.376665</td>\n",
       "      <td>-4.596435</td>\n",
       "      <td>-4.095756</td>\n",
       "      <td>13.497687</td>\n",
       "      <td>-0.118830</td>\n",
       "      <td>-20.669883</td>\n",
       "      <td>0.000732</td>\n",
       "      <td>-0.061114</td>\n",
       "      <td>...</td>\n",
       "      <td>10.091721</td>\n",
       "      <td>0.053279</td>\n",
       "      <td>-4.936434</td>\n",
       "      <td>-24.590146</td>\n",
       "      <td>18.515436</td>\n",
       "      <td>3.473400</td>\n",
       "      <td>0.033444</td>\n",
       "      <td>0.953219</td>\n",
       "      <td>0.006076</td>\n",
       "      <td>0</td>\n",
       "    </tr>\n",
       "    <tr>\n",
       "      <th>1</th>\n",
       "      <td>1999-05-01 00:02:00</td>\n",
       "      <td>0</td>\n",
       "      <td>0.475720</td>\n",
       "      <td>-4.542502</td>\n",
       "      <td>-4.018359</td>\n",
       "      <td>16.230659</td>\n",
       "      <td>-0.128733</td>\n",
       "      <td>-18.758079</td>\n",
       "      <td>0.000732</td>\n",
       "      <td>-0.061114</td>\n",
       "      <td>...</td>\n",
       "      <td>10.095871</td>\n",
       "      <td>0.062801</td>\n",
       "      <td>-4.937179</td>\n",
       "      <td>-32.413266</td>\n",
       "      <td>22.760065</td>\n",
       "      <td>2.682933</td>\n",
       "      <td>0.033536</td>\n",
       "      <td>1.090502</td>\n",
       "      <td>0.006083</td>\n",
       "      <td>0</td>\n",
       "    </tr>\n",
       "    <tr>\n",
       "      <th>2</th>\n",
       "      <td>1999-05-01 00:04:00</td>\n",
       "      <td>0</td>\n",
       "      <td>0.363848</td>\n",
       "      <td>-4.681394</td>\n",
       "      <td>-4.353147</td>\n",
       "      <td>14.127998</td>\n",
       "      <td>-0.138636</td>\n",
       "      <td>-17.836632</td>\n",
       "      <td>0.010803</td>\n",
       "      <td>-0.061114</td>\n",
       "      <td>...</td>\n",
       "      <td>10.100265</td>\n",
       "      <td>0.072322</td>\n",
       "      <td>-4.937924</td>\n",
       "      <td>-34.183774</td>\n",
       "      <td>27.004663</td>\n",
       "      <td>3.537487</td>\n",
       "      <td>0.033629</td>\n",
       "      <td>1.840540</td>\n",
       "      <td>0.006090</td>\n",
       "      <td>0</td>\n",
       "    </tr>\n",
       "    <tr>\n",
       "      <th>3</th>\n",
       "      <td>1999-05-01 00:06:00</td>\n",
       "      <td>0</td>\n",
       "      <td>0.301590</td>\n",
       "      <td>-4.758934</td>\n",
       "      <td>-4.023612</td>\n",
       "      <td>13.161567</td>\n",
       "      <td>-0.148142</td>\n",
       "      <td>-18.517601</td>\n",
       "      <td>0.002075</td>\n",
       "      <td>-0.061114</td>\n",
       "      <td>...</td>\n",
       "      <td>10.104660</td>\n",
       "      <td>0.081600</td>\n",
       "      <td>-4.938669</td>\n",
       "      <td>-35.954281</td>\n",
       "      <td>21.672449</td>\n",
       "      <td>3.986095</td>\n",
       "      <td>0.033721</td>\n",
       "      <td>2.554880</td>\n",
       "      <td>0.006097</td>\n",
       "      <td>0</td>\n",
       "    </tr>\n",
       "    <tr>\n",
       "      <th>4</th>\n",
       "      <td>1999-05-01 00:08:00</td>\n",
       "      <td>0</td>\n",
       "      <td>0.265578</td>\n",
       "      <td>-4.749928</td>\n",
       "      <td>-4.333150</td>\n",
       "      <td>15.267340</td>\n",
       "      <td>-0.155314</td>\n",
       "      <td>-17.505913</td>\n",
       "      <td>0.000732</td>\n",
       "      <td>-0.061114</td>\n",
       "      <td>...</td>\n",
       "      <td>10.109054</td>\n",
       "      <td>0.091121</td>\n",
       "      <td>-4.939414</td>\n",
       "      <td>-37.724789</td>\n",
       "      <td>21.907251</td>\n",
       "      <td>3.601573</td>\n",
       "      <td>0.033777</td>\n",
       "      <td>1.410494</td>\n",
       "      <td>0.006105</td>\n",
       "      <td>0</td>\n",
       "    </tr>\n",
       "  </tbody>\n",
       "</table>\n",
       "<p>5 rows × 63 columns</p>\n",
       "</div>"
      ],
      "text/plain": [
       "                 time  y        x1        x2        x3         x4        x5  \\\n",
       "0 1999-05-01 00:00:00  0  0.376665 -4.596435 -4.095756  13.497687 -0.118830   \n",
       "1 1999-05-01 00:02:00  0  0.475720 -4.542502 -4.018359  16.230659 -0.128733   \n",
       "2 1999-05-01 00:04:00  0  0.363848 -4.681394 -4.353147  14.127998 -0.138636   \n",
       "3 1999-05-01 00:06:00  0  0.301590 -4.758934 -4.023612  13.161567 -0.148142   \n",
       "4 1999-05-01 00:08:00  0  0.265578 -4.749928 -4.333150  15.267340 -0.155314   \n",
       "\n",
       "          x6        x7        x8 ...         x52       x53       x54  \\\n",
       "0 -20.669883  0.000732 -0.061114 ...   10.091721  0.053279 -4.936434   \n",
       "1 -18.758079  0.000732 -0.061114 ...   10.095871  0.062801 -4.937179   \n",
       "2 -17.836632  0.010803 -0.061114 ...   10.100265  0.072322 -4.937924   \n",
       "3 -18.517601  0.002075 -0.061114 ...   10.104660  0.081600 -4.938669   \n",
       "4 -17.505913  0.000732 -0.061114 ...   10.109054  0.091121 -4.939414   \n",
       "\n",
       "         x55        x56       x57       x58       x59       x60  x61  \n",
       "0 -24.590146  18.515436  3.473400  0.033444  0.953219  0.006076    0  \n",
       "1 -32.413266  22.760065  2.682933  0.033536  1.090502  0.006083    0  \n",
       "2 -34.183774  27.004663  3.537487  0.033629  1.840540  0.006090    0  \n",
       "3 -35.954281  21.672449  3.986095  0.033721  2.554880  0.006097    0  \n",
       "4 -37.724789  21.907251  3.601573  0.033777  1.410494  0.006105    0  \n",
       "\n",
       "[5 rows x 63 columns]"
      ]
     },
     "execution_count": 91,
     "metadata": {},
     "output_type": "execute_result"
    }
   ],
   "source": [
    "data.head()"
   ]
  },
  {
   "cell_type": "code",
   "execution_count": 92,
   "metadata": {},
   "outputs": [
    {
     "data": {
      "image/png": "[encoded data removed]",
      "text/plain": [
       "<Figure size 720x360 with 1 Axes>"
      ]
     },
     "metadata": {
      "needs_background": "light"
     },
     "output_type": "display_data"
    }
   ],
   "source": [
    "data.plot(x='time', y='y', figsize=(10,5));"
   ]
  },
  {
   "cell_type": "code",
   "execution_count": 93,
   "metadata": {},
   "outputs": [],
   "source": [
    "def first_diff(x):\n",
    "    first_diff = x - x.shift(1)\n",
    "    return(first_diff)"
   ]
  },
  {
   "cell_type": "code",
   "execution_count": 94,
   "metadata": {},
   "outputs": [],
   "source": [
    "def second_diff(x):\n",
    "    first_diff = x - x.shift(1)\n",
    "    second_diff = first_diff - first_diff.shift(1)\n",
    "    return(second_diff)"
   ]
  },
  {
   "cell_type": "code",
   "execution_count": 95,
   "metadata": {},
   "outputs": [],
   "source": [
    "# create second difference from variables x1 - x61 without x61 and x28\n",
    "cols_to_remove = ['x28', 'x61', 'y', 'time']\n",
    "cols = data.drop(cols_to_remove, inplace=False, axis=1).columns\n",
    "\n",
    "data[cols].head()\n",
    "data[cols].columns\n",
    "\n",
    "import numpy as np\n",
    "\n",
    "for col in cols:\n",
    "    data.loc[:,col+\"d1\"] = first_diff(data[col])\n",
    "    data.loc[:,col+\"d2\"] = second_diff(data[col])"
   ]
  },
  {
   "cell_type": "code",
   "execution_count": 96,
   "metadata": {},
   "outputs": [
    {
     "name": "stdout",
     "output_type": "stream",
     "text": [
      "Index(['time', 'y', 'x1', 'x2', 'x3', 'x4', 'x5', 'x6', 'x7', 'x8',\n",
      "       ...\n",
      "       'x56d1', 'x56d2', 'x57d1', 'x57d2', 'x58d1', 'x58d2', 'x59d1', 'x59d2',\n",
      "       'x60d1', 'x60d2'],\n",
      "      dtype='object', length=181)\n"
     ]
    }
   ],
   "source": [
    "print(data.columns)"
   ]
  },
  {
   "cell_type": "code",
   "execution_count": 97,
   "metadata": {},
   "outputs": [],
   "source": [
    "# create x28 change variable and drop x28d1\n",
    "data['x28d1'] = data['x28'] - data['x28'].shift(1)\n",
    "data['x28change'] = np.where((data['x28d1']==0) | (data['x28d1'].isna()), 0, 1)"
   ]
  },
  {
   "cell_type": "code",
   "execution_count": 98,
   "metadata": {},
   "outputs": [],
   "source": [
    "# drop variable x28d1\n",
    "data.drop('x28d1', axis=1, inplace=True)"
   ]
  },
  {
   "cell_type": "code",
   "execution_count": 99,
   "metadata": {},
   "outputs": [],
   "source": [
    "# created lagged outcome variable - 1,2 periods - suggested by authors     \n",
    "data['ylag1'] = data['y'].shift(1)\n",
    "data['ylag2'] = data['y'].shift(2)"
   ]
  },
  {
   "cell_type": "code",
   "execution_count": 101,
   "metadata": {},
   "outputs": [
    {
     "data": {
      "image/png": "[encoded data removed]",
      "text/plain": [
       "<Figure size 432x288 with 1 Axes>"
      ]
     },
     "metadata": {
      "needs_background": "light"
     },
     "output_type": "display_data"
    }
   ],
   "source": [
    "data['x28change'].plot();"
   ]
  },
  {
   "cell_type": "code",
   "execution_count": 102,
   "metadata": {},
   "outputs": [
    {
     "data": {
      "image/png": "[encoded data removed]",
      "text/plain": [
       "<Figure size 1080x432 with 1 Axes>"
      ]
     },
     "metadata": {
      "needs_background": "light"
     },
     "output_type": "display_data"
    }
   ],
   "source": [
    "# target y vs. x5d2\n",
    "import matplotlib.pyplot as plt\n",
    "data.plot.line(x = 'time', y='x5d2', figsize=(15, 6), color='r')\n",
    "\n",
    "xcoords = data[data[\"y\"] == 1]['time']\n",
    "for xc in xcoords:\n",
    "    plt.axvline(x=xc, color='gray')"
   ]
  },
  {
   "cell_type": "code",
   "execution_count": 103,
   "metadata": {},
   "outputs": [
    {
     "data": {
      "text/html": [
       "<div>\n",
       "<style scoped>\n",
       "    .dataframe tbody tr th:only-of-type {\n",
       "        vertical-align: middle;\n",
       "    }\n",
       "\n",
       "    .dataframe tbody tr th {\n",
       "        vertical-align: top;\n",
       "    }\n",
       "\n",
       "    .dataframe thead th {\n",
       "        text-align: right;\n",
       "    }\n",
       "</style>\n",
       "<table border=\"1\" class=\"dataframe\">\n",
       "  <thead>\n",
       "    <tr style=\"text-align: right;\">\n",
       "      <th></th>\n",
       "      <th>x1</th>\n",
       "      <th>x2</th>\n",
       "      <th>x3</th>\n",
       "      <th>x4</th>\n",
       "      <th>x5</th>\n",
       "      <th>x6</th>\n",
       "      <th>x7</th>\n",
       "      <th>x8</th>\n",
       "      <th>x9</th>\n",
       "      <th>x10</th>\n",
       "      <th>...</th>\n",
       "      <th>x56d2</th>\n",
       "      <th>x57d1</th>\n",
       "      <th>x57d2</th>\n",
       "      <th>x58d1</th>\n",
       "      <th>x58d2</th>\n",
       "      <th>x59d1</th>\n",
       "      <th>x59d2</th>\n",
       "      <th>x60d1</th>\n",
       "      <th>x60d2</th>\n",
       "      <th>x28change</th>\n",
       "    </tr>\n",
       "  </thead>\n",
       "  <tbody>\n",
       "    <tr>\n",
       "      <th>0</th>\n",
       "      <td>0.376665</td>\n",
       "      <td>-4.596435</td>\n",
       "      <td>-4.095756</td>\n",
       "      <td>13.497687</td>\n",
       "      <td>-0.118830</td>\n",
       "      <td>-20.669883</td>\n",
       "      <td>0.000732</td>\n",
       "      <td>-0.061114</td>\n",
       "      <td>-0.059966</td>\n",
       "      <td>-0.038189</td>\n",
       "      <td>...</td>\n",
       "      <td>NaN</td>\n",
       "      <td>NaN</td>\n",
       "      <td>NaN</td>\n",
       "      <td>NaN</td>\n",
       "      <td>NaN</td>\n",
       "      <td>NaN</td>\n",
       "      <td>NaN</td>\n",
       "      <td>NaN</td>\n",
       "      <td>NaN</td>\n",
       "      <td>0</td>\n",
       "    </tr>\n",
       "    <tr>\n",
       "      <th>1</th>\n",
       "      <td>0.475720</td>\n",
       "      <td>-4.542502</td>\n",
       "      <td>-4.018359</td>\n",
       "      <td>16.230659</td>\n",
       "      <td>-0.128733</td>\n",
       "      <td>-18.758079</td>\n",
       "      <td>0.000732</td>\n",
       "      <td>-0.061114</td>\n",
       "      <td>-0.059966</td>\n",
       "      <td>-0.038189</td>\n",
       "      <td>...</td>\n",
       "      <td>NaN</td>\n",
       "      <td>-0.790467</td>\n",
       "      <td>NaN</td>\n",
       "      <td>0.000092</td>\n",
       "      <td>NaN</td>\n",
       "      <td>0.137283</td>\n",
       "      <td>NaN</td>\n",
       "      <td>0.000007</td>\n",
       "      <td>NaN</td>\n",
       "      <td>0</td>\n",
       "    </tr>\n",
       "    <tr>\n",
       "      <th>2</th>\n",
       "      <td>0.363848</td>\n",
       "      <td>-4.681394</td>\n",
       "      <td>-4.353147</td>\n",
       "      <td>14.127998</td>\n",
       "      <td>-0.138636</td>\n",
       "      <td>-17.836632</td>\n",
       "      <td>0.010803</td>\n",
       "      <td>-0.061114</td>\n",
       "      <td>-0.030057</td>\n",
       "      <td>-0.018352</td>\n",
       "      <td>...</td>\n",
       "      <td>-0.000031</td>\n",
       "      <td>0.854554</td>\n",
       "      <td>1.645021</td>\n",
       "      <td>0.000093</td>\n",
       "      <td>0.000001</td>\n",
       "      <td>0.750038</td>\n",
       "      <td>0.612755</td>\n",
       "      <td>0.000007</td>\n",
       "      <td>0.000000e+00</td>\n",
       "      <td>0</td>\n",
       "    </tr>\n",
       "    <tr>\n",
       "      <th>3</th>\n",
       "      <td>0.301590</td>\n",
       "      <td>-4.758934</td>\n",
       "      <td>-4.023612</td>\n",
       "      <td>13.161567</td>\n",
       "      <td>-0.148142</td>\n",
       "      <td>-18.517601</td>\n",
       "      <td>0.002075</td>\n",
       "      <td>-0.061114</td>\n",
       "      <td>-0.019986</td>\n",
       "      <td>-0.008280</td>\n",
       "      <td>...</td>\n",
       "      <td>-9.576812</td>\n",
       "      <td>0.448608</td>\n",
       "      <td>-0.405946</td>\n",
       "      <td>0.000092</td>\n",
       "      <td>-0.000001</td>\n",
       "      <td>0.714340</td>\n",
       "      <td>-0.035698</td>\n",
       "      <td>0.000007</td>\n",
       "      <td>0.000000e+00</td>\n",
       "      <td>0</td>\n",
       "    </tr>\n",
       "    <tr>\n",
       "      <th>4</th>\n",
       "      <td>0.265578</td>\n",
       "      <td>-4.749928</td>\n",
       "      <td>-4.333150</td>\n",
       "      <td>15.267340</td>\n",
       "      <td>-0.155314</td>\n",
       "      <td>-17.505913</td>\n",
       "      <td>0.000732</td>\n",
       "      <td>-0.061114</td>\n",
       "      <td>-0.030057</td>\n",
       "      <td>-0.008280</td>\n",
       "      <td>...</td>\n",
       "      <td>5.567016</td>\n",
       "      <td>-0.384522</td>\n",
       "      <td>-0.833130</td>\n",
       "      <td>0.000056</td>\n",
       "      <td>-0.000036</td>\n",
       "      <td>-1.144386</td>\n",
       "      <td>-1.858726</td>\n",
       "      <td>0.000008</td>\n",
       "      <td>1.000000e-06</td>\n",
       "      <td>0</td>\n",
       "    </tr>\n",
       "  </tbody>\n",
       "</table>\n",
       "<p>5 rows × 180 columns</p>\n",
       "</div>"
      ],
      "text/plain": [
       "         x1        x2        x3         x4        x5         x6        x7  \\\n",
       "0  0.376665 -4.596435 -4.095756  13.497687 -0.118830 -20.669883  0.000732   \n",
       "1  0.475720 -4.542502 -4.018359  16.230659 -0.128733 -18.758079  0.000732   \n",
       "2  0.363848 -4.681394 -4.353147  14.127998 -0.138636 -17.836632  0.010803   \n",
       "3  0.301590 -4.758934 -4.023612  13.161567 -0.148142 -18.517601  0.002075   \n",
       "4  0.265578 -4.749928 -4.333150  15.267340 -0.155314 -17.505913  0.000732   \n",
       "\n",
       "         x8        x9       x10    ...         x56d2     x57d1     x57d2  \\\n",
       "0 -0.061114 -0.059966 -0.038189    ...           NaN       NaN       NaN   \n",
       "1 -0.061114 -0.059966 -0.038189    ...           NaN -0.790467       NaN   \n",
       "2 -0.061114 -0.030057 -0.018352    ...     -0.000031  0.854554  1.645021   \n",
       "3 -0.061114 -0.019986 -0.008280    ...     -9.576812  0.448608 -0.405946   \n",
       "4 -0.061114 -0.030057 -0.008280    ...      5.567016 -0.384522 -0.833130   \n",
       "\n",
       "      x58d1     x58d2     x59d1     x59d2     x60d1         x60d2  x28change  \n",
       "0       NaN       NaN       NaN       NaN       NaN           NaN          0  \n",
       "1  0.000092       NaN  0.137283       NaN  0.000007           NaN          0  \n",
       "2  0.000093  0.000001  0.750038  0.612755  0.000007  0.000000e+00          0  \n",
       "3  0.000092 -0.000001  0.714340 -0.035698  0.000007  0.000000e+00          0  \n",
       "4  0.000056 -0.000036 -1.144386 -1.858726  0.000008  1.000000e-06          0  \n",
       "\n",
       "[5 rows x 180 columns]"
      ]
     },
     "execution_count": 103,
     "metadata": {},
     "output_type": "execute_result"
    }
   ],
   "source": [
    "data.columns\n",
    "data.iloc[:, 2:-2].head()"
   ]
  },
  {
   "cell_type": "markdown",
   "metadata": {},
   "source": [
    "# All variables, original class distribution"
   ]
  },
  {
   "cell_type": "markdown",
   "metadata": {},
   "source": [
    "## 1) remove predictors with correlation higher than 0.5"
   ]
  },
  {
   "cell_type": "code",
   "execution_count": 104,
   "metadata": {},
   "outputs": [
    {
     "name": "stdout",
     "output_type": "stream",
     "text": [
      "Variables to remove: {'x36d2', 'x18d2', 'x53d2', 'x32', 'x44d2', 'x51', 'x38', 'x16d1', 'x51d1', 'x31d2', 'x19d2', 'x2d1', 'x22d2', 'x2d2', 'x7d1', 'x36', 'x38d1', 'x48d2', 'x29d1', 'x12d1', 'x60d2', 'x11', 'x29', 'x18', 'x6d1', 'x40d2', 'x52', 'x48d1', 'x15d1', 'x41d2', 'x13d1', 'x46d2', 'x50', 'x39d2', 'x34', 'x22', 'x22d1', 'x53', 'x46d1', 'x25d1', 'x27', 'x39', 'x9d2', 'x57d2', 'x23', 'x55d1', 'x16d2', 'x19', 'x52d2', 'x11d2', 'x37', 'x5d2', 'x31', 'x7d2', 'x49d1', 'x26', 'x54d2', 'x51d2', 'x42d2', 'x35', 'x6', 'x26d2', 'x58d1', 'x33', 'x23d1', 'x21d1', 'x56d1', 'x10d2', 'x14d1', 'x29d2', 'x11d1', 'x59d1', 'x25d2', 'x12', 'x30d1', 'x47', 'x37d2', 'x24d1', 'x43d2', 'x37d1', 'x17d2', 'x40', 'x50d2', 'x25', 'x16', 'x35d1', 'x1d1', 'x23d2', 'x1d2', 'x20d1', 'x41d1', 'x38d2', 'x17', 'x8d2', 'x34d1', 'x30', 'x13', 'x54', 'x47d1', 'x32d1', 'x4d1', 'x10d1', 'x33d1', 'x59d2', 'x56d2', 'x45d2', 'x3', 'x10', 'x8d1', 'x24d2', 'x44', 'x32d2', 'x59', 'x3d2', 'x6d2', 'x27d1', 'x12d2'}\n",
      "117 variables were removed.\n",
      "Variables remained: ['x57', 'x43', 'x50d1', 'x4d2', 'x41', 'x42d1', 'x24', 'x14', 'x14d2', 'x13d2', 'x28change', 'x28', 'x31d1', 'x17d1', 'x55', 'x34d2', 'x49d2', 'x40d1', 'x58', 'x47d2', 'x30d2', 'x55d2', 'x45', 'x5d1', 'x35d2', 'x48', 'x15d2', 'x57d1', 'x44d1', 'x7', 'x58d2', 'x26d1', 'x61', 'x20d2', 'x54d1', 'x20', 'x4', 'x60d1', 'x8', 'x1', 'x3d1', 'x19d1', 'x46', 'x36d1', 'x27d2', 'x45d1', 'x42', 'x43d1', 'x18d1', 'x9d1', 'x56', 'x52d1', 'x49', 'x60', 'x33d2', 'x9', 'x39d1', 'x21', 'x5', 'x15', 'x53d1', 'x21d2', 'x2']\n",
      "63 variables remained in the data set.\n"
     ]
    }
   ],
   "source": [
    "# multicollinearity check\n",
    "corr_matrix = data.iloc[:, 2:-2].corr()[data.iloc[:, 2:-2].corr()>0.5].abs()\n",
    "\n",
    "corr_matrix_unstacked = corr_matrix.unstack()\n",
    "\n",
    "pairs = corr_matrix_unstacked.sort_values(kind=\"quicksort\")\n",
    "pairs = pairs.drop_duplicates()\n",
    "\n",
    "# remove NaN and corr=1 rows\n",
    "pairs = pairs[(pairs.isna()==False) & (pairs[pairs<1])]\n",
    "\n",
    "vars_remove = []\n",
    "vars_remained = []\n",
    "for i in range(len(pairs)):\n",
    "    if data.corr()['ylag2'][pairs.index[i][0]] < data.corr()['ylag2'][pairs.index[i][1]]:\n",
    "        var_remove = pairs.index[i][0]\n",
    "        vars_remove.append(var_remove)\n",
    "    else:\n",
    "        var_remove = pairs.index[i][1]\n",
    "        vars_remove.append(var_remove)  \n",
    "        \n",
    "print('Variables to remove:', set(vars_remove))  \n",
    "print(len(set(vars_remove)), 'variables were removed.')\n",
    "\n",
    "vars_remained = list(set(data.iloc[:, 2:-2].columns) - set(vars_remove))\n",
    "print('Variables remained:', vars_remained)  \n",
    "print(len(set(vars_remained)), 'variables remained in the data set.')"
   ]
  },
  {
   "cell_type": "markdown",
   "metadata": {},
   "source": [
    "**Divide dataset into training and testing based on time: train = 01/05/99 - 21/5/99, test = 22/5/99 - 98/5/99**"
   ]
  },
  {
   "cell_type": "code",
   "execution_count": 105,
   "metadata": {},
   "outputs": [],
   "source": [
    "# drop rows with na from data frame 'data'\n",
    "data.dropna(inplace=True)\n",
    "\n",
    "# y shifted 2 periods back\n",
    "X, y = data[vars_remained].values, data.iloc[:, -1].values\n",
    "\n",
    "train_to = round(len(X)*0.8)\n",
    "\n",
    "X_train = X[:train_to,]\n",
    "y_train = y[:train_to]\n",
    "\n",
    "X_test = X[train_to:, ]\n",
    "y_test = y[train_to:]"
   ]
  },
  {
   "cell_type": "markdown",
   "metadata": {},
   "source": [
    "## Logistic regression, random forest, gradient boosting"
   ]
  },
  {
   "cell_type": "code",
   "execution_count": 106,
   "metadata": {
    "scrolled": true
   },
   "outputs": [],
   "source": [
    "from sklearn.linear_model import LogisticRegression\n",
    "from sklearn.ensemble import RandomForestClassifier\n",
    "from sklearn.ensemble import GradientBoostingClassifier\n",
    "\n",
    "rf = RandomForestClassifier(n_estimators=100)\n",
    "lr = LogisticRegression()\n",
    "gb = GradientBoostingClassifier()"
   ]
  },
  {
   "cell_type": "code",
   "execution_count": 107,
   "metadata": {},
   "outputs": [
    {
     "name": "stdout",
     "output_type": "stream",
     "text": [
      "                     precision    recall  matthews\n",
      "model                                             \n",
      "gradient boosting     0.394698  0.385000  0.357956\n",
      "logistic regression   0.404762  0.116667  0.203216\n",
      "random forest         0.766667  0.226667  0.406695\n",
      "                     precision    recall  matthews\n",
      "model                                             \n",
      "gradient boosting     0.314046  0.274389  0.244018\n",
      "logistic regression   0.473804  0.111803  0.216477\n",
      "random forest         0.416905  0.141253  0.224047\n"
     ]
    },
    {
     "data": {
      "image/png": "[encoded data removed]",
      "text/plain": [
       "<Figure size 432x288 with 1 Axes>"
      ]
     },
     "metadata": {
      "needs_background": "light"
     },
     "output_type": "display_data"
    }
   ],
   "source": [
    "SKfold_prec_recall(X_train, y_train, models=[lr, rf, gb])"
   ]
  },
  {
   "cell_type": "markdown",
   "metadata": {},
   "source": [
    "## 2) Feature selection based on L1 regularization for logistic regression"
   ]
  },
  {
   "cell_type": "code",
   "execution_count": 108,
   "metadata": {},
   "outputs": [],
   "source": [
    "# start with all variables\n",
    "# drop rows with na from data frame 'data'\n",
    "data.dropna(inplace=True)\n",
    "\n",
    "# y shifted 2 periods back\n",
    "X, y = data.iloc[:, 2:-2].values, data.iloc[:, -1].values\n",
    "\n",
    "train_to = round(len(X)*0.8)\n",
    "\n",
    "X_train = X[:train_to,]\n",
    "y_train = y[:train_to]\n",
    "\n",
    "X_test = X[train_to:, ]\n",
    "y_test = y[train_to:]"
   ]
  },
  {
   "cell_type": "code",
   "execution_count": 109,
   "metadata": {},
   "outputs": [
    {
     "name": "stdout",
     "output_type": "stream",
     "text": [
      "44 variables out of 180 remained.\n"
     ]
    }
   ],
   "source": [
    "from sklearn.linear_model import LogisticRegression\n",
    "lr_l1 = LogisticRegression(penalty='l1')\n",
    "lr_l1.fit(X_train, y_train)\n",
    "print(lr_l1.coef_[lr_l1.coef_ > 0].shape[0], 'variables out of', lr_l1.coef_.shape[1], 'remained.')"
   ]
  },
  {
   "cell_type": "code",
   "execution_count": 110,
   "metadata": {},
   "outputs": [
    {
     "data": {
      "text/html": [
       "<div>\n",
       "<style scoped>\n",
       "    .dataframe tbody tr th:only-of-type {\n",
       "        vertical-align: middle;\n",
       "    }\n",
       "\n",
       "    .dataframe tbody tr th {\n",
       "        vertical-align: top;\n",
       "    }\n",
       "\n",
       "    .dataframe thead th {\n",
       "        text-align: right;\n",
       "    }\n",
       "</style>\n",
       "<table border=\"1\" class=\"dataframe\">\n",
       "  <thead>\n",
       "    <tr style=\"text-align: right;\">\n",
       "      <th></th>\n",
       "      <th>x4</th>\n",
       "      <th>x5</th>\n",
       "      <th>x12</th>\n",
       "      <th>x13</th>\n",
       "      <th>x17</th>\n",
       "      <th>x19</th>\n",
       "      <th>x20</th>\n",
       "      <th>x23</th>\n",
       "      <th>x24</th>\n",
       "      <th>x27</th>\n",
       "      <th>...</th>\n",
       "      <th>x35d2</th>\n",
       "      <th>x42d1</th>\n",
       "      <th>x44d1</th>\n",
       "      <th>x44d2</th>\n",
       "      <th>x45d1</th>\n",
       "      <th>x46d1</th>\n",
       "      <th>x47d1</th>\n",
       "      <th>x51d2</th>\n",
       "      <th>x56d2</th>\n",
       "      <th>ylag2</th>\n",
       "    </tr>\n",
       "  </thead>\n",
       "  <tbody>\n",
       "    <tr>\n",
       "      <th>2</th>\n",
       "      <td>14.127998</td>\n",
       "      <td>-0.138636</td>\n",
       "      <td>0.065150</td>\n",
       "      <td>-9.619596</td>\n",
       "      <td>-2.353925</td>\n",
       "      <td>3.075199</td>\n",
       "      <td>0.123154</td>\n",
       "      <td>-9.784456</td>\n",
       "      <td>0.364356</td>\n",
       "      <td>-0.097144</td>\n",
       "      <td>...</td>\n",
       "      <td>0.419505</td>\n",
       "      <td>1.502556</td>\n",
       "      <td>-2.25586</td>\n",
       "      <td>-21.00195</td>\n",
       "      <td>0.837853</td>\n",
       "      <td>0.606278</td>\n",
       "      <td>-0.23761</td>\n",
       "      <td>0.0</td>\n",
       "      <td>-0.000031</td>\n",
       "      <td>0.0</td>\n",
       "    </tr>\n",
       "    <tr>\n",
       "      <th>3</th>\n",
       "      <td>13.161567</td>\n",
       "      <td>-0.148142</td>\n",
       "      <td>-0.067199</td>\n",
       "      <td>-15.196531</td>\n",
       "      <td>-2.367223</td>\n",
       "      <td>3.075199</td>\n",
       "      <td>0.123154</td>\n",
       "      <td>-9.784456</td>\n",
       "      <td>0.368556</td>\n",
       "      <td>-0.160073</td>\n",
       "      <td>...</td>\n",
       "      <td>0.000005</td>\n",
       "      <td>1.502548</td>\n",
       "      <td>-2.43164</td>\n",
       "      <td>-0.17578</td>\n",
       "      <td>-0.949635</td>\n",
       "      <td>1.194065</td>\n",
       "      <td>-0.47619</td>\n",
       "      <td>0.0</td>\n",
       "      <td>-9.576812</td>\n",
       "      <td>0.0</td>\n",
       "    </tr>\n",
       "    <tr>\n",
       "      <th>4</th>\n",
       "      <td>15.267340</td>\n",
       "      <td>-0.155314</td>\n",
       "      <td>-0.018472</td>\n",
       "      <td>-14.609266</td>\n",
       "      <td>-2.380521</td>\n",
       "      <td>3.075199</td>\n",
       "      <td>0.123154</td>\n",
       "      <td>-9.784456</td>\n",
       "      <td>0.372756</td>\n",
       "      <td>-0.131630</td>\n",
       "      <td>...</td>\n",
       "      <td>-0.000001</td>\n",
       "      <td>1.502556</td>\n",
       "      <td>-2.43359</td>\n",
       "      <td>-0.00195</td>\n",
       "      <td>0.748966</td>\n",
       "      <td>-0.737568</td>\n",
       "      <td>-0.47614</td>\n",
       "      <td>0.0</td>\n",
       "      <td>5.567016</td>\n",
       "      <td>0.0</td>\n",
       "    </tr>\n",
       "    <tr>\n",
       "      <th>5</th>\n",
       "      <td>14.143195</td>\n",
       "      <td>-0.162501</td>\n",
       "      <td>-0.093183</td>\n",
       "      <td>-12.999540</td>\n",
       "      <td>-2.393815</td>\n",
       "      <td>3.075199</td>\n",
       "      <td>0.123154</td>\n",
       "      <td>-9.784456</td>\n",
       "      <td>0.376956</td>\n",
       "      <td>-0.133819</td>\n",
       "      <td>...</td>\n",
       "      <td>-4.032863</td>\n",
       "      <td>1.502548</td>\n",
       "      <td>-2.43164</td>\n",
       "      <td>0.00195</td>\n",
       "      <td>0.261605</td>\n",
       "      <td>-0.470047</td>\n",
       "      <td>-0.47613</td>\n",
       "      <td>0.0</td>\n",
       "      <td>1.170837</td>\n",
       "      <td>0.0</td>\n",
       "    </tr>\n",
       "    <tr>\n",
       "      <th>6</th>\n",
       "      <td>18.681465</td>\n",
       "      <td>-0.169672</td>\n",
       "      <td>-0.138765</td>\n",
       "      <td>-10.783887</td>\n",
       "      <td>-2.407113</td>\n",
       "      <td>3.075199</td>\n",
       "      <td>0.123154</td>\n",
       "      <td>-9.784456</td>\n",
       "      <td>0.381156</td>\n",
       "      <td>-0.150353</td>\n",
       "      <td>...</td>\n",
       "      <td>4.041393</td>\n",
       "      <td>-1.451767</td>\n",
       "      <td>3.42187</td>\n",
       "      <td>5.85351</td>\n",
       "      <td>-0.785141</td>\n",
       "      <td>0.908413</td>\n",
       "      <td>-0.47614</td>\n",
       "      <td>0.0</td>\n",
       "      <td>-0.000029</td>\n",
       "      <td>0.0</td>\n",
       "    </tr>\n",
       "  </tbody>\n",
       "</table>\n",
       "<p>5 rows × 45 columns</p>\n",
       "</div>"
      ],
      "text/plain": [
       "          x4        x5       x12        x13       x17       x19       x20  \\\n",
       "2  14.127998 -0.138636  0.065150  -9.619596 -2.353925  3.075199  0.123154   \n",
       "3  13.161567 -0.148142 -0.067199 -15.196531 -2.367223  3.075199  0.123154   \n",
       "4  15.267340 -0.155314 -0.018472 -14.609266 -2.380521  3.075199  0.123154   \n",
       "5  14.143195 -0.162501 -0.093183 -12.999540 -2.393815  3.075199  0.123154   \n",
       "6  18.681465 -0.169672 -0.138765 -10.783887 -2.407113  3.075199  0.123154   \n",
       "\n",
       "        x23       x24       x27  ...       x35d2     x42d1    x44d1     x44d2  \\\n",
       "2 -9.784456  0.364356 -0.097144  ...    0.419505  1.502556 -2.25586 -21.00195   \n",
       "3 -9.784456  0.368556 -0.160073  ...    0.000005  1.502548 -2.43164  -0.17578   \n",
       "4 -9.784456  0.372756 -0.131630  ...   -0.000001  1.502556 -2.43359  -0.00195   \n",
       "5 -9.784456  0.376956 -0.133819  ...   -4.032863  1.502548 -2.43164   0.00195   \n",
       "6 -9.784456  0.381156 -0.150353  ...    4.041393 -1.451767  3.42187   5.85351   \n",
       "\n",
       "      x45d1     x46d1    x47d1  x51d2     x56d2  ylag2  \n",
       "2  0.837853  0.606278 -0.23761    0.0 -0.000031    0.0  \n",
       "3 -0.949635  1.194065 -0.47619    0.0 -9.576812    0.0  \n",
       "4  0.748966 -0.737568 -0.47614    0.0  5.567016    0.0  \n",
       "5  0.261605 -0.470047 -0.47613    0.0  1.170837    0.0  \n",
       "6 -0.785141  0.908413 -0.47614    0.0 -0.000029    0.0  \n",
       "\n",
       "[5 rows x 45 columns]"
      ]
     },
     "execution_count": 110,
     "metadata": {},
     "output_type": "execute_result"
    }
   ],
   "source": [
    "# features selected by L1 regularization\n",
    "all_predictors = np.array(data.columns[2:-2])\n",
    "stay = np.array(lr_l1.coef_ > 0)[0]\n",
    "data[all_predictors[stay]].head()\n",
    "np.append(all_predictors[stay], 'ylag2')\n",
    "data[np.append(all_predictors[stay], 'ylag2')].head()"
   ]
  },
  {
   "cell_type": "code",
   "execution_count": 111,
   "metadata": {},
   "outputs": [],
   "source": [
    "# divide into training and testing data set and remain only variables selected by L1\n",
    "# drop rows with na from data frame 'data'\n",
    "data2 = data[np.append(all_predictors[stay], 'ylag2')]\n",
    "data2.dropna(inplace=True)\n",
    "data2.iloc[:, :-1].head()\n",
    "data2.iloc[:, -1].head()\n",
    "\n",
    "X, y = data2.iloc[:, :-1].values, data2.iloc[:, -1].values\n",
    "\n",
    "train_to = round(len(X)*0.8)\n",
    "\n",
    "X_train = X[:train_to,]\n",
    "y_train = y[:train_to]\n",
    "\n",
    "X_test = X[train_to:, ]\n",
    "y_test = y[train_to:]"
   ]
  },
  {
   "cell_type": "code",
   "execution_count": 112,
   "metadata": {},
   "outputs": [],
   "source": [
    "# initialize models\n",
    "from sklearn.linear_model import LogisticRegression\n",
    "from sklearn.ensemble import RandomForestClassifier\n",
    "from sklearn.ensemble import GradientBoostingClassifier\n",
    "\n",
    "rf = RandomForestClassifier(n_estimators=100)\n",
    "lr = LogisticRegression()\n",
    "gb = GradientBoostingClassifier()"
   ]
  },
  {
   "cell_type": "code",
   "execution_count": 113,
   "metadata": {
    "scrolled": true
   },
   "outputs": [
    {
     "name": "stdout",
     "output_type": "stream",
     "text": [
      "                     precision    recall  matthews\n",
      "model                                             \n",
      "gradient boosting     0.325322  0.267500  0.265890\n",
      "logistic regression   0.096194  0.232353  0.066629\n",
      "random forest         0.641026  0.192308  0.337030\n",
      "                     precision    recall  matthews\n",
      "model                                             \n",
      "gradient boosting     0.340106  0.231286  0.244128\n",
      "logistic regression   0.261918  0.301528  0.190338\n",
      "random forest         0.480384  0.184669  0.270615\n"
     ]
    },
    {
     "data": {
      "image/png": "[encoded data removed]",
      "text/plain": [
       "<Figure size 432x288 with 1 Axes>"
      ]
     },
     "metadata": {
      "needs_background": "light"
     },
     "output_type": "display_data"
    }
   ],
   "source": [
    "SKfold_prec_recall(X_train, y_train, models=[lr, rf, gb])"
   ]
  },
  {
   "cell_type": "markdown",
   "metadata": {},
   "source": [
    "## 3) top 20 variables with highest correlation to ylag2\n",
    "### variables with correlation higher than 0.5 between each other removed"
   ]
  },
  {
   "cell_type": "code",
   "execution_count": 122,
   "metadata": {},
   "outputs": [
    {
     "name": "stdout",
     "output_type": "stream",
     "text": [
      "Variables to remove: ['x10', 'x56d2', 'x22d2', 'x18d2', 'x38', 'x18d2', 'x38d1', 'x3d2']\n",
      "Variables remained: ['x42', 'x48d2', 'x34d2', 'x9d1', 'x17d2', 'x42d2', 'x5d2', 'x19d2', 'x15d2', 'x9', 'x50d2', 'x2d2', 'x13d2']\n"
     ]
    }
   ],
   "source": [
    "# select top 20 variables most correlated with ylag2\n",
    "top20vars = data.corr()['ylag2'].abs().sort_values(ascending=False)[1:21].index\n",
    "\n",
    "# multicollinearity check\n",
    "corr_matrix = data[top20vars].corr()[data[top20vars].corr()>0.5].abs()\n",
    "\n",
    "corr_matrix_unstacked = corr_matrix.unstack()\n",
    "\n",
    "pairs = corr_matrix_unstacked.sort_values(kind=\"quicksort\")\n",
    "pairs = pairs.drop_duplicates()\n",
    "\n",
    "# remove NaN and corr=1 rows\n",
    "pairs = pairs[(pairs.isna()==False) & (pairs[pairs<1])]\n",
    "\n",
    "vars_remove_y = []\n",
    "for i in range(len(pairs)):\n",
    "    if data.corr()['ylag2'][pairs.index[i][0]] < data.corr()['ylag2'][pairs.index[i][1]]:\n",
    "        var_remove_y = pairs.index[i][0]\n",
    "        vars_remove_y.append(var_remove_y)\n",
    "    else:\n",
    "        var_remove_y = pairs.index[i][1]\n",
    "        vars_remove_y.append(var_remove_y)  \n",
    "print('Variables to remove:', vars_remove_y)    \n",
    "\n",
    "vars_remained_y = list(set(list(top20vars)) - set(vars_remove_y))\n",
    "print('Variables remained:', vars_remained_y)"
   ]
  },
  {
   "cell_type": "code",
   "execution_count": 123,
   "metadata": {},
   "outputs": [],
   "source": [
    "# drop rows with na from data frame 'data'\n",
    "data.dropna(inplace=True)\n",
    "\n",
    "# make X and y data set\n",
    "X, y = data[vars_remained_y].values, data.iloc[:, -1].values\n",
    "\n",
    "train_to = round(len(X)*0.8)\n",
    "\n",
    "X_train = X[:train_to,]\n",
    "y_train = y[:train_to]\n",
    "\n",
    "X_test = X[train_to:, ]\n",
    "y_test = y[train_to:]"
   ]
  },
  {
   "cell_type": "code",
   "execution_count": 124,
   "metadata": {},
   "outputs": [],
   "source": [
    "# initialize models\n",
    "from sklearn.linear_model import LogisticRegression\n",
    "from sklearn.ensemble import RandomForestClassifier\n",
    "from sklearn.ensemble import GradientBoostingClassifier\n",
    "\n",
    "rf = RandomForestClassifier(n_estimators=100)\n",
    "lr = LogisticRegression()\n",
    "gb = GradientBoostingClassifier()"
   ]
  },
  {
   "cell_type": "code",
   "execution_count": 125,
   "metadata": {},
   "outputs": [
    {
     "name": "stdout",
     "output_type": "stream",
     "text": [
      "                     precision    recall  matthews\n",
      "model                                             \n",
      "gradient boosting     0.767468  0.560000  0.618984\n",
      "logistic regression   0.789474  0.371053  0.521819\n",
      "random forest         0.956140  0.555263  0.707176\n",
      "                     precision    recall  matthews\n",
      "model                                             \n",
      "gradient boosting     0.244574  0.284975  0.188797\n",
      "logistic regression   0.297064  0.234115  0.221966\n",
      "random forest         0.105294  0.235050  0.146892\n"
     ]
    },
    {
     "data": {
      "image/png": "[encoded data removed]",
      "text/plain": [
       "<Figure size 432x288 with 1 Axes>"
      ]
     },
     "metadata": {
      "needs_background": "light"
     },
     "output_type": "display_data"
    }
   ],
   "source": [
    "SKfold_prec_recall(X_train, y_train, models=[lr, rf, gb])"
   ]
  },
  {
   "cell_type": "markdown",
   "metadata": {},
   "source": [
    "## 4) Dimension reduction - PCA\n",
    "### Continue with variables selected by correlation with response"
   ]
  },
  {
   "cell_type": "code",
   "execution_count": 126,
   "metadata": {},
   "outputs": [
    {
     "data": {
      "text/plain": [
       "array([0.15291371, 0.14938779, 0.09935   , 0.09271449, 0.08203601,\n",
       "       0.07692948, 0.06168572, 0.06019461, 0.05895295, 0.0471305 ,\n",
       "       0.04416531, 0.0403946 , 0.03414483])"
      ]
     },
     "execution_count": 126,
     "metadata": {},
     "output_type": "execute_result"
    }
   ],
   "source": [
    "# standardize variables\n",
    "from sklearn.preprocessing import StandardScaler\n",
    "sc = StandardScaler()\n",
    "X_train_std = sc.fit_transform(X_train)\n",
    "X_test_std = sc.fit_transform(X_test)\n",
    "\n",
    "# principle components analysis\n",
    "from sklearn.decomposition import PCA\n",
    "pca = PCA()\n",
    "X_train_pca = pca.fit_transform(X_train_std)\n",
    "pca.explained_variance_ratio_"
   ]
  },
  {
   "cell_type": "code",
   "execution_count": 127,
   "metadata": {},
   "outputs": [
    {
     "data": {
      "image/png": "[encoded data removed]",
      "text/plain": [
       "<Figure size 432x288 with 1 Axes>"
      ]
     },
     "metadata": {
      "needs_background": "light"
     },
     "output_type": "display_data"
    }
   ],
   "source": [
    "import matplotlib.pyplot as plt\n",
    "plt.bar(range(1, 14), pca.explained_variance_ratio_, alpha=0.5, align='center', label='individual explained variance')\n",
    "plt.step(range(1, 14), np.cumsum(pca.explained_variance_ratio_), where='mid', label='cumulative explained variance')\n",
    "plt.ylabel('Explained variance ratio')\n",
    "plt.xlabel('Principal components')\n",
    "plt.legend(loc='left left')\n",
    "plt.show()"
   ]
  },
  {
   "cell_type": "code",
   "execution_count": 128,
   "metadata": {},
   "outputs": [
    {
     "data": {
      "image/png": "[encoded data removed]",
      "text/plain": [
       "<Figure size 432x288 with 1 Axes>"
      ]
     },
     "metadata": {
      "needs_background": "light"
     },
     "output_type": "display_data"
    }
   ],
   "source": [
    "colors = ['r', 'g']\n",
    "markers = ['x', 'o']\n",
    "\n",
    "for l, c, m in zip(np.unique(y_train), colors, markers):\n",
    "    plt.scatter(X_train_pca[y_train == l, 0], \n",
    "                X_train_pca[y_train == l, 1], \n",
    "                c=c, label=l, marker=m)\n",
    "plt.xlabel('PC 1')\n",
    "plt.ylabel('PC 2')\n",
    "plt.legend(loc='upper right');"
   ]
  },
  {
   "cell_type": "code",
   "execution_count": 129,
   "metadata": {},
   "outputs": [],
   "source": [
    "# use 8 principal components - they cover 80 % of variance\n",
    "pca = PCA(n_components=8)\n",
    "X_train_pca = pca.fit_transform(X_train_std)\n",
    "X_test_pca = pca.transform(X_test_std)"
   ]
  },
  {
   "cell_type": "code",
   "execution_count": 130,
   "metadata": {},
   "outputs": [],
   "source": [
    "# initialize models\n",
    "from sklearn.linear_model import LogisticRegression\n",
    "from sklearn.ensemble import RandomForestClassifier\n",
    "from sklearn.ensemble import GradientBoostingClassifier\n",
    "\n",
    "rf = RandomForestClassifier(n_estimators=100)\n",
    "lr = LogisticRegression()\n",
    "gb = GradientBoostingClassifier()"
   ]
  },
  {
   "cell_type": "code",
   "execution_count": 131,
   "metadata": {},
   "outputs": [
    {
     "name": "stdout",
     "output_type": "stream",
     "text": [
      "                     precision    recall  matthews\n",
      "model                                             \n",
      "gradient boosting     0.516040  0.357895  0.405980\n",
      "logistic regression   0.685294  0.373529  0.475209\n",
      "random forest         0.711376  0.391667  0.502345\n",
      "                     precision    recall  matthews\n",
      "model                                             \n",
      "gradient boosting     0.276295  0.233490  0.192018\n",
      "logistic regression   0.346354  0.272785  0.232846\n",
      "random forest         0.384740  0.297168  0.283222\n"
     ]
    },
    {
     "data": {
      "image/png": "[encoded data removed]",
      "text/plain": [
       "<Figure size 432x288 with 1 Axes>"
      ]
     },
     "metadata": {
      "needs_background": "light"
     },
     "output_type": "display_data"
    }
   ],
   "source": [
    "SKfold_prec_recall(X_train_pca, y_train, models=[lr, rf, gb])"
   ]
  },
  {
   "cell_type": "markdown",
   "metadata": {},
   "source": [
    "# Class balancing - oversampling using SMOTE"
   ]
  },
  {
   "cell_type": "markdown",
   "metadata": {},
   "source": [
    "## In cross-validation, oversample only folds used for training, not for testing!!!\n",
    "### Approach based on L1 regularization not tested here because of latter bad performance "
   ]
  },
  {
   "cell_type": "markdown",
   "metadata": {},
   "source": [
    "## 1) All variables without correlated ones"
   ]
  },
  {
   "cell_type": "code",
   "execution_count": 132,
   "metadata": {},
   "outputs": [],
   "source": [
    "# drop rows with na from data frame 'data'\n",
    "data.dropna(inplace=True)\n",
    "\n",
    "# y shifted 2 periods back\n",
    "X, y = data[vars_remained].values, data.iloc[:, -1].values\n",
    "\n",
    "train_to = round(len(X)*0.8)\n",
    "\n",
    "X_train = X[:train_to,]\n",
    "y_train = y[:train_to]\n",
    "\n",
    "X_test = X[train_to:, ]\n",
    "y_test = y[train_to:]"
   ]
  },
  {
   "cell_type": "code",
   "execution_count": 133,
   "metadata": {},
   "outputs": [],
   "source": [
    "# initialize models\n",
    "from sklearn.linear_model import LogisticRegression\n",
    "from sklearn.ensemble import RandomForestClassifier\n",
    "from sklearn.ensemble import GradientBoostingClassifier\n",
    "\n",
    "rf = RandomForestClassifier(n_estimators=100)\n",
    "lr = LogisticRegression()\n",
    "gb = GradientBoostingClassifier()"
   ]
  },
  {
   "cell_type": "code",
   "execution_count": 134,
   "metadata": {},
   "outputs": [
    {
     "name": "stdout",
     "output_type": "stream",
     "text": [
      "                     precision  recall  matthews\n",
      "model                                           \n",
      "gradient boosting     0.434616  0.7250  0.521710\n",
      "logistic regression   0.032866  0.5775  0.085226\n",
      "random forest         0.864444  0.3700  0.549430\n",
      "                     precision    recall  matthews\n",
      "model                                             \n",
      "gradient boosting     0.296217  0.207428  0.199461\n",
      "logistic regression   0.054556  0.257761  0.098911\n",
      "random forest         0.283534  0.202485  0.208415\n"
     ]
    },
    {
     "data": {
      "image/png": "[encoded data removed]",
      "text/plain": [
       "<Figure size 432x288 with 1 Axes>"
      ]
     },
     "metadata": {
      "needs_background": "light"
     },
     "output_type": "display_data"
    }
   ],
   "source": [
    "SKfold_prec_recall_SMOTE(X_train, y_train, models=[gb, lr, rf])"
   ]
  },
  {
   "cell_type": "markdown",
   "metadata": {},
   "source": [
    "## 2) Variables with highest correlation to response"
   ]
  },
  {
   "cell_type": "code",
   "execution_count": 135,
   "metadata": {},
   "outputs": [],
   "source": [
    "# drop rows with na from data frame 'data'\n",
    "data.dropna(inplace=True)\n",
    "\n",
    "# make X and y data set\n",
    "X, y = data[vars_remained_y].values, data.iloc[:, -1].values\n",
    "\n",
    "train_to = round(len(X)*0.8)\n",
    "\n",
    "X_train = X[:train_to,]\n",
    "y_train = y[:train_to]\n",
    "\n",
    "X_test = X[train_to:, ]\n",
    "y_test = y[train_to:]"
   ]
  },
  {
   "cell_type": "code",
   "execution_count": 136,
   "metadata": {},
   "outputs": [],
   "source": [
    "# initialize models\n",
    "from sklearn.linear_model import LogisticRegression\n",
    "from sklearn.ensemble import RandomForestClassifier\n",
    "from sklearn.ensemble import GradientBoostingClassifier\n",
    "\n",
    "rf = RandomForestClassifier(n_estimators=100)\n",
    "lr = LogisticRegression()\n",
    "gb = GradientBoostingClassifier()"
   ]
  },
  {
   "cell_type": "code",
   "execution_count": 137,
   "metadata": {},
   "outputs": [
    {
     "name": "stdout",
     "output_type": "stream",
     "text": [
      "                     precision  recall  matthews\n",
      "model                                           \n",
      "gradient boosting     0.494048  0.7475  0.592834\n",
      "logistic regression   0.134178  0.6775  0.278953\n",
      "random forest         0.861071  0.6825  0.750056\n",
      "                     precision    recall  matthews\n",
      "model                                             \n",
      "gradient boosting     0.177394  0.218533  0.158043\n",
      "logistic regression   0.092291  0.284455  0.149588\n",
      "random forest         0.184031  0.217204  0.151981\n"
     ]
    },
    {
     "data": {
      "image/png": "[encoded data removed]",
      "text/plain": [
       "<Figure size 432x288 with 1 Axes>"
      ]
     },
     "metadata": {
      "needs_background": "light"
     },
     "output_type": "display_data"
    }
   ],
   "source": [
    "SKfold_prec_recall_SMOTE(X_train, y_train, models=[gb, lr, rf])"
   ]
  },
  {
   "cell_type": "markdown",
   "metadata": {},
   "source": [
    "# 3) PCA"
   ]
  },
  {
   "cell_type": "code",
   "execution_count": 138,
   "metadata": {},
   "outputs": [
    {
     "name": "stdout",
     "output_type": "stream",
     "text": [
      "                     precision  recall  matthews\n",
      "model                                           \n",
      "gradient boosting     0.092345  0.6625  0.230429\n",
      "logistic regression   0.079858  0.6925  0.213733\n",
      "random forest         0.305232  0.5625  0.396397\n",
      "                     precision    recall  matthews\n",
      "model                                             \n",
      "gradient boosting     0.059223  0.214522  0.100721\n",
      "logistic regression   0.054693  0.286666  0.113287\n",
      "random forest         0.164695  0.242723  0.176665\n"
     ]
    },
    {
     "data": {
      "image/png": "[encoded data removed]",
      "text/plain": [
       "<Figure size 432x288 with 1 Axes>"
      ]
     },
     "metadata": {
      "needs_background": "light"
     },
     "output_type": "display_data"
    }
   ],
   "source": [
    "SKfold_prec_recall_SMOTE(X_train_pca, y_train, models=[lr, rf, gb])"
   ]
  },
  {
   "cell_type": "markdown",
   "metadata": {},
   "source": [
    "# Performance on test set - features selected based on correlation with ylag2"
   ]
  },
  {
   "cell_type": "markdown",
   "metadata": {},
   "source": [
    "## Original class distribution"
   ]
  },
  {
   "cell_type": "code",
   "execution_count": 139,
   "metadata": {},
   "outputs": [],
   "source": [
    "# drop rows with na from data frame 'data'\n",
    "data.dropna(inplace=True)\n",
    "\n",
    "# make X and y data set\n",
    "X, y = data[vars_remained_y].values, data.iloc[:, -1].values\n",
    "\n",
    "train_to = round(len(X)*0.5)\n",
    "\n",
    "X_train = X[:train_to,]\n",
    "y_train = y[:train_to]\n",
    "\n",
    "X_test = X[train_to:, ]\n",
    "y_test = y[train_to:]"
   ]
  },
  {
   "cell_type": "code",
   "execution_count": 140,
   "metadata": {},
   "outputs": [
    {
     "data": {
      "text/plain": [
       "GradientBoostingClassifier(criterion='friedman_mse', init=None,\n",
       "              learning_rate=0.1, loss='deviance', max_depth=3,\n",
       "              max_features=None, max_leaf_nodes=None,\n",
       "              min_impurity_decrease=0.0, min_impurity_split=None,\n",
       "              min_samples_leaf=1, min_samples_split=2,\n",
       "              min_weight_fraction_leaf=0.0, n_estimators=100,\n",
       "              n_iter_no_change=None, presort='auto', random_state=None,\n",
       "              subsample=1.0, tol=0.0001, validation_fraction=0.1,\n",
       "              verbose=0, warm_start=False)"
      ]
     },
     "execution_count": 140,
     "metadata": {},
     "output_type": "execute_result"
    }
   ],
   "source": [
    "from sklearn.linear_model import LogisticRegression\n",
    "from sklearn.ensemble import RandomForestClassifier\n",
    "from sklearn.ensemble import GradientBoostingClassifier\n",
    "\n",
    "rf = RandomForestClassifier(n_estimators=100)\n",
    "rf.fit(X_train, y_train)\n",
    "\n",
    "lr = LogisticRegression()\n",
    "lr.fit(X_train, y_train)\n",
    "\n",
    "gb = GradientBoostingClassifier()\n",
    "gb.fit(X_train, y_train)"
   ]
  },
  {
   "cell_type": "code",
   "execution_count": 141,
   "metadata": {},
   "outputs": [
    {
     "name": "stdout",
     "output_type": "stream",
     "text": [
      "RandomForestClassifier\n",
      "col_0   0.0  1.0\n",
      "row_0           \n",
      "0.0    9133   31\n",
      "1.0       3   31\n",
      "Sensitivity = 0.5\n",
      "Precision = 0.9117647058823529\n",
      "Matthews correlation = 0.6738560087598862\n",
      "None\n",
      "\n",
      "LogisticRegression\n",
      "col_0   0.0  1.0\n",
      "row_0           \n",
      "0.0    9110   41\n",
      "1.0      26   21\n",
      "Sensitivity = 0.3387096774193548\n",
      "Precision = 0.44680851063829785\n",
      "Matthews correlation = 0.38746140677369506\n",
      "None\n",
      "\n",
      "GradientBoostingClassifier\n",
      "col_0   0.0  1.0\n",
      "row_0           \n",
      "0.0    9108   29\n",
      "1.0      28   33\n",
      "Sensitivity = 0.532258064516129\n",
      "Precision = 0.5409836065573771\n",
      "Matthews correlation = 0.5348277990345476\n",
      "None\n",
      "\n"
     ]
    }
   ],
   "source": [
    "models = [rf, lr, gb]\n",
    "\n",
    "for model in models:\n",
    "    print(model.__class__.__name__)\n",
    "    print(perf_metrics(model, X_test, y_test))\n",
    "    print('')"
   ]
  },
  {
   "cell_type": "markdown",
   "metadata": {},
   "source": [
    "## SMOTE"
   ]
  },
  {
   "cell_type": "code",
   "execution_count": 142,
   "metadata": {},
   "outputs": [],
   "source": [
    "from imblearn.over_sampling import SMOTE\n",
    "sm = SMOTE(random_state=12)\n",
    "X_train_sm, y_train_sm = sm.fit_sample(X_train, y_train)"
   ]
  },
  {
   "cell_type": "code",
   "execution_count": 143,
   "metadata": {},
   "outputs": [
    {
     "data": {
      "text/plain": [
       "GradientBoostingClassifier(criterion='friedman_mse', init=None,\n",
       "              learning_rate=0.1, loss='deviance', max_depth=3,\n",
       "              max_features=None, max_leaf_nodes=None,\n",
       "              min_impurity_decrease=0.0, min_impurity_split=None,\n",
       "              min_samples_leaf=1, min_samples_split=2,\n",
       "              min_weight_fraction_leaf=0.0, n_estimators=100,\n",
       "              n_iter_no_change=None, presort='auto', random_state=None,\n",
       "              subsample=1.0, tol=0.0001, validation_fraction=0.1,\n",
       "              verbose=0, warm_start=False)"
      ]
     },
     "execution_count": 143,
     "metadata": {},
     "output_type": "execute_result"
    }
   ],
   "source": [
    "from sklearn.linear_model import LogisticRegression\n",
    "from sklearn.ensemble import RandomForestClassifier\n",
    "from sklearn.ensemble import GradientBoostingClassifier\n",
    "\n",
    "rf = RandomForestClassifier(n_estimators=100)\n",
    "rf.fit(X_train_sm, y_train_sm)\n",
    "\n",
    "lr = LogisticRegression()\n",
    "lr.fit(X_train_sm, y_train_sm)\n",
    "\n",
    "gb = GradientBoostingClassifier()\n",
    "gb.fit(X_train_sm, y_train_sm)"
   ]
  },
  {
   "cell_type": "code",
   "execution_count": 144,
   "metadata": {},
   "outputs": [
    {
     "name": "stdout",
     "output_type": "stream",
     "text": [
      "RandomForestClassifier\n",
      "col_0   0.0  1.0\n",
      "row_0           \n",
      "0.0    9117   12\n",
      "1.0      19   50\n",
      "Sensitivity = 0.8064516129032258\n",
      "Precision = 0.7246376811594203\n",
      "Matthews correlation = 0.7631016364768815\n",
      "None\n",
      "\n",
      "LogisticRegression\n",
      "col_0   0.0  1.0\n",
      "row_0           \n",
      "0.0    7501   16\n",
      "1.0    1635   46\n",
      "Sensitivity = 0.7419354838709677\n",
      "Precision = 0.027364663890541343\n",
      "Matthews correlation = 0.12835534113473243\n",
      "None\n",
      "\n",
      "GradientBoostingClassifier\n",
      "col_0   0.0  1.0\n",
      "row_0           \n",
      "0.0    9070    7\n",
      "1.0      66   55\n",
      "Sensitivity = 0.8870967741935484\n",
      "Precision = 0.45454545454545453\n",
      "Matthews correlation = 0.6323662390724312\n",
      "None\n",
      "\n"
     ]
    }
   ],
   "source": [
    "models = [rf, lr, gb]\n",
    "\n",
    "for model in models:\n",
    "    print(model.__class__.__name__)\n",
    "    print(perf_metrics(model, X_test, y_test))\n",
    "    print('')"
   ]
  },
  {
   "cell_type": "markdown",
   "metadata": {},
   "source": [
    "# Functions used throughout the notebook"
   ]
  },
  {
   "cell_type": "code",
   "execution_count": 88,
   "metadata": {},
   "outputs": [],
   "source": [
    "def SKfold_prec_recall_SMOTE(X_train, y_train, models):\n",
    "\n",
    "    import numpy as np\n",
    "    import matplotlib.pyplot as plt\n",
    "\n",
    "    from sklearn.model_selection import StratifiedKFold\n",
    "    from imblearn.over_sampling import SMOTE\n",
    "    from sklearn.metrics import matthews_corrcoef\n",
    "\n",
    "    kfold = StratifiedKFold(n_splits=20, random_state=1).split(X_train, y_train)\n",
    "    sm = SMOTE(random_state=12)\n",
    "    \n",
    "    precisions = []\n",
    "    recalls = []\n",
    "    classifiers = []\n",
    "    matthews = []\n",
    "\n",
    "    for k, (train, test) in enumerate(kfold):\n",
    "       \n",
    "        X_train_sm, y_train_sm = sm.fit_sample(X_train[train], y_train[train])\n",
    "\n",
    "        for model in models:\n",
    "            \n",
    "            model.fit(X_train_sm, y_train_sm)\n",
    "\n",
    "            predictions = model.predict(X_train[test])\n",
    "\n",
    "            if len(np.unique(predictions)) > 1:   \n",
    "\n",
    "                TP = pd.crosstab(predictions, y_train[test])[1][1]\n",
    "                FN = pd.crosstab(predictions, y_train[test])[1][0]\n",
    "                TN = pd.crosstab(predictions, y_train[test])[0][0]\n",
    "                FP = pd.crosstab(predictions, y_train[test])[0][1]\n",
    "                \n",
    "                precision = TP/(TP+FP)\n",
    "                recall = TP/(TP+FN)\n",
    "\n",
    "                matthew = matthews_corrcoef(y_train[test], predictions) \n",
    "                \n",
    "                if model == lr:\n",
    "                    classifiers.append('logistic regression')\n",
    "                elif model == rf:\n",
    "                    classifiers.append('random forest')\n",
    "                else:\n",
    "                    classifiers.append('gradient boosting')         \n",
    "\n",
    "                precisions.append(precision)\n",
    "                recalls.append(recall)\n",
    "\n",
    "                matthews.append(matthew)\n",
    "\n",
    "    d = {'precision': precisions, 'recall': recalls, 'matthews': matthews, 'model': classifiers}\n",
    "    df = pd.DataFrame(d)\n",
    "    \n",
    "    means = df.groupby(['model'])['precision', 'recall', 'matthews'].mean()\n",
    "    errors = df.groupby(['model'])['precision', 'recall', 'matthews'].std()\n",
    "    \n",
    "    fig, ax = plt.subplots()\n",
    "    means.plot.bar(yerr=errors, ax=ax, rot=0)\n",
    "    plt.legend(loc=2)\n",
    "    \n",
    "    print(means)\n",
    "    print(errors)"
   ]
  },
  {
   "cell_type": "code",
   "execution_count": 87,
   "metadata": {},
   "outputs": [],
   "source": [
    "def SKfold_prec_recall(X_train, y_train, models):\n",
    "\n",
    "    import numpy as np\n",
    "    import matplotlib.pyplot as plt\n",
    "\n",
    "    from sklearn.model_selection import StratifiedKFold\n",
    "    from sklearn.metrics import matthews_corrcoef\n",
    "\n",
    "    kfold = StratifiedKFold(n_splits=20, random_state=1).split(X_train, y_train)\n",
    "\n",
    "    precisions = []\n",
    "    recalls = []\n",
    "    classifiers = []\n",
    "    matthews = []\n",
    "\n",
    "    for k, (train, test) in enumerate(kfold):\n",
    "\n",
    "        for model in models:\n",
    "\n",
    "            model.fit(X_train[train], y_train[train])\n",
    "\n",
    "            predictions = model.predict(X_train[test])\n",
    "\n",
    "            if len(np.unique(predictions)) > 1:   \n",
    "\n",
    "                TP = pd.crosstab(predictions, y_train[test])[1][1]\n",
    "                FN = pd.crosstab(predictions, y_train[test])[1][0]\n",
    "                TN = pd.crosstab(predictions, y_train[test])[0][0]\n",
    "                FP = pd.crosstab(predictions, y_train[test])[0][1]\n",
    "                \n",
    "                precision = TP/(TP+FP)\n",
    "                recall = TP/(TP+FN)\n",
    "                \n",
    "                matthew = matthews_corrcoef(y_train[test], predictions) \n",
    "\n",
    "                if model == lr:\n",
    "                    classifiers.append('logistic regression')\n",
    "                elif model == rf:\n",
    "                    classifiers.append('random forest')\n",
    "                else:\n",
    "                    classifiers.append('gradient boosting')         \n",
    "\n",
    "                precisions.append(precision)\n",
    "                recalls.append(recall)\n",
    "                \n",
    "                matthews.append(matthew)\n",
    "\n",
    "    d = {'precision': precisions, 'recall': recalls, 'matthews': matthews, 'model': classifiers}\n",
    "    df = pd.DataFrame(d)\n",
    "    \n",
    "    means = df.groupby(['model'])['precision', 'recall', 'matthews'].mean()\n",
    "    errors = df.groupby(['model'])['precision', 'recall', 'matthews'].std()\n",
    "    \n",
    "    fig, ax = plt.subplots()\n",
    "    means.plot.bar(yerr=errors, ax=ax, rot=0)\n",
    "    plt.legend(loc=2)\n",
    "    \n",
    "    print(means)\n",
    "    print(errors)"
   ]
  },
  {
   "cell_type": "code",
   "execution_count": 86,
   "metadata": {},
   "outputs": [],
   "source": [
    "# function for computation of sensitivity and precision\n",
    "def perf_metrics(model, X, Y):\n",
    "    \n",
    "    import numpy as np\n",
    "    from math import sqrt\n",
    "    #from sklearn.metrics import matthews_corrcoef\n",
    "    \n",
    "    predictions = model.predict(X)\n",
    "    \n",
    "    if len(np.unique(predictions)) == 1:\n",
    "        print('There is only one class predicted by model.')\n",
    "    else:\n",
    "        TP = pd.crosstab(predictions, Y)[1][1]\n",
    "        FN = pd.crosstab(predictions, Y)[1][0]\n",
    "        TN = pd.crosstab(predictions, Y)[0][0]\n",
    "        FP = pd.crosstab(predictions, Y)[0][1]\n",
    "\n",
    "        sensitivity = TP/(TP+FN)\n",
    "        precision = TP/(TP+FP)\n",
    "        \n",
    "        matthew_formula = (TP*TN-FP-FN)/sqrt((TP+FP)*(TP+FN)*(TN+FP)*(TN+FN))\n",
    "        \n",
    "        #matthew = matthews_corrcoef(Y, predictions) \n",
    "     \n",
    "        print(pd.crosstab(predictions, Y))\n",
    "        print('Sensitivity =', sensitivity)\n",
    "        print('Precision =', precision)\n",
    "        print('Matthews correlation =', matthew_formula)\n",
    "        #print('Matthews correlation =', matthew)"
   ]
  }
 ],
 "metadata": {
  "kernelspec": {
   "display_name": "Python 3",
   "language": "python",
   "name": "python3"
  },
  "language_info": {
   "codemirror_mode": {
    "name": "ipython",
    "version": 3
   },
   "file_extension": ".py",
   "mimetype": "text/x-python",
   "name": "python",
   "nbconvert_exporter": "python",
   "pygments_lexer": "ipython3",
   "version": "3.7.1"
  }
 },
 "nbformat": 4,
 "nbformat_minor": 2
}
